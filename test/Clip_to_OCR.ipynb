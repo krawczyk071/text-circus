{
 "cells": [
  {
   "cell_type": "code",
   "execution_count": 1,
   "metadata": {},
   "outputs": [],
   "source": [
    "from PIL import ImageGrab, Image\n",
    "import pyperclip\n",
    "import pytesseract\n",
    "import os\n",
    "from dotenv import load_dotenv\n",
    "load_dotenv()\n",
    "\n",
    "TES_PATH = os.environ.get(\"TES_PATH\")\n",
    "# from pytesseract import Output\n",
    "# pytesseract.pytesseract.tesseract_cmd = r'C:\\Program Files\\Tesseract-OCR\\tesseract.exe'\n",
    "pytesseract.pytesseract.tesseract_cmd = TES_PATH\n",
    "# myconfig = r\"--psm 11 --oem 3\""
   ]
  },
  {
   "cell_type": "code",
   "execution_count": 2,
   "metadata": {},
   "outputs": [
    {
     "name": "stdout",
     "output_type": "stream",
     "text": [
      "text-circus (main)\n",
      "\n"
     ]
    }
   ],
   "source": [
    "# get screen from clipbord\n",
    "img = ImageGrab.grabclipboard()\n",
    "\n",
    "if img:\n",
    "    text = pytesseract.image_to_string(img)\n",
    "    ## you can save picture as backup\n",
    "    # img.save('data/temp/clipboard_image.jpg')\n",
    "    pyperclip.copy(text)\n",
    "    print(text)\n",
    "else:\n",
    "    print('No image in the clipboard')"
   ]
  }
 ],
 "metadata": {
  "kernelspec": {
   "display_name": "Python 3.11.0 64-bit",
   "language": "python",
   "name": "python3"
  },
  "language_info": {
   "codemirror_mode": {
    "name": "ipython",
    "version": 3
   },
   "file_extension": ".py",
   "mimetype": "text/x-python",
   "name": "python",
   "nbconvert_exporter": "python",
   "pygments_lexer": "ipython3",
   "version": "3.11.0"
  },
  "orig_nbformat": 4,
  "vscode": {
   "interpreter": {
    "hash": "c23242fb54848fa23659734f0f90c8b918912a18b89a55913a71a8384503e3f8"
   }
  }
 },
 "nbformat": 4,
 "nbformat_minor": 2
}

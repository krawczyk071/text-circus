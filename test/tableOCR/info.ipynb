{
 "cells": [
  {
   "cell_type": "code",
   "execution_count": null,
   "metadata": {},
   "outputs": [],
   "source": [
    "https://github.com/livefiredev/ocr-extract-table-from-image-python\n",
    "https://livefiredev.com/how-to-extract-table-from-image-in-python-opencv-ocr/?utm_source=pocket_saves"
   ]
  }
 ],
 "metadata": {
  "language_info": {
   "name": "python"
  },
  "orig_nbformat": 4
 },
 "nbformat": 4,
 "nbformat_minor": 2
}

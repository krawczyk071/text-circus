{
 "cells": [
  {
   "cell_type": "code",
   "execution_count": 22,
   "metadata": {},
   "outputs": [],
   "source": [
    "from pathlib import Path\n",
    "import pysrt\n",
    "\n",
    "# Specify the SRT file path\n",
    "# srt_filepath = \"subtitles.srt\"\n",
    "srt_filepath = Path(r\"C:\\Users\\krawc\\Videos\\0103.srt\")\n",
    "srt_dir = srt_filepath.parent\n",
    "srt_filename = srt_filepath.stem"
   ]
  },
  {
   "cell_type": "code",
   "execution_count": 1,
   "metadata": {},
   "outputs": [],
   "source": [
    "import tkinter as tk\n",
    "from tkinter import filedialog\n",
    "\n",
    "def select_file(title='Select sth'):\n",
    "    root = tk.Tk()\n",
    "    root.withdraw()\n",
    "    file_path = filedialog.askopenfilename(title=title)\n",
    "    return file_path\n",
    "\n",
    "srt_filepath=Path(select_file())"
   ]
  },
  {
   "cell_type": "code",
   "execution_count": 17,
   "metadata": {},
   "outputs": [],
   "source": [
    "# Open the SRT file and read the subtitles\n",
    "subtitles = pysrt.open(srt_filepath)\n",
    "\n",
    "# Extract all the subtitle text\n",
    "all_text = []\n",
    "for subtitle in subtitles:\n",
    "    all_text.append(subtitle.text)\n",
    "\n",
    "\n",
    "# Concatenate the list elements into one string\n",
    "result_string = ' '.join(all_text)\n",
    "result_string = \" \".join(result_string.split())\n",
    "\n",
    "# # Print the extracted text\n",
    "# print(result_string)"
   ]
  },
  {
   "cell_type": "code",
   "execution_count": 23,
   "metadata": {},
   "outputs": [],
   "source": [
    "def save_string_to_file(string, filepath):\n",
    "    with open(filepath, 'w') as f:\n",
    "        f.write(string)\n",
    "\n",
    "filepath= srt_dir / Path(srt_filename + '.txt')\n",
    "\n",
    "save_string_to_file(result_string,filepath)"
   ]
  },
  {
   "cell_type": "code",
   "execution_count": 18,
   "metadata": {},
   "outputs": [],
   "source": [
    "import pyperclip\n",
    "pyperclip.copy(result_string)"
   ]
  }
 ],
 "metadata": {
  "kernelspec": {
   "display_name": ".venv",
   "language": "python",
   "name": "python3"
  },
  "language_info": {
   "codemirror_mode": {
    "name": "ipython",
    "version": 3
   },
   "file_extension": ".py",
   "mimetype": "text/x-python",
   "name": "python",
   "nbconvert_exporter": "python",
   "pygments_lexer": "ipython3",
   "version": "3.11.0"
  }
 },
 "nbformat": 4,
 "nbformat_minor": 2
}
